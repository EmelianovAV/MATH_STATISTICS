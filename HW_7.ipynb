{
  "nbformat": 4,
  "nbformat_minor": 0,
  "metadata": {
    "colab": {
      "name": "HW_7.ipynb",
      "provenance": [],
      "collapsed_sections": [],
      "toc_visible": true
    },
    "kernelspec": {
      "name": "python3",
      "display_name": "Python 3"
    },
    "language_info": {
      "name": "python"
    }
  },
  "cells": [
    {
      "cell_type": "markdown",
      "metadata": {
        "id": "Z-aSBOYnHAXl"
      },
      "source": [
        "# Задание 1"
      ]
    },
    {
      "cell_type": "markdown",
      "metadata": {
        "id": "paTacCbFG9Ja"
      },
      "source": [
        "Даны значения величины заработной платы заемщиков банка (zp) и значения их поведенческого кредитного скоринга (ks): zp = [35, 45, 190, 200, 40, 70, 54, 150, 120, 110], ks = [401, 574, 874, 919, 459, 739, 653, 902, 746, 832]. Используя математические операции, посчитать коэффициенты линейной регрессии, приняв за X заработную плату (то есть, zp - признак), а за y - значения скорингового балла (то есть, ks - целевая переменная). Произвести расчет как с использованием intercept, так и без."
      ]
    },
    {
      "cell_type": "code",
      "metadata": {
        "id": "vLrViasWGyz9"
      },
      "source": [
        "import numpy as np\n",
        "import pandas as pd"
      ],
      "execution_count": 1,
      "outputs": []
    },
    {
      "cell_type": "code",
      "metadata": {
        "id": "5kV3zvgGHYJn"
      },
      "source": [
        "x = np.array ([35, 45, 190, 200, 40, 70, 54, 150, 120, 110], dtype=np.float64)\n",
        "y = np.array([401, 574, 874, 919, 459, 739, 653, 902, 746, 832],  dtype=np.float64)"
      ],
      "execution_count": 8,
      "outputs": []
    },
    {
      "cell_type": "markdown",
      "metadata": {
        "id": "a_qLt6FaJZHC"
      },
      "source": [
        "Коэффициенты уравнения линейной регрессии можно найти следующим образом:\n",
        "$$b = \\frac{\\overline{yx} - \\overline{y} \\cdot {\\overline{x}}}{\\overline{x^2} - (\\overline{x})^2};$$\n",
        "\n",
        "$$a = \\overline{y} - b \\cdot {\\overline{x}}.$$"
      ]
    },
    {
      "cell_type": "code",
      "metadata": {
        "colab": {
          "base_uri": "https://localhost:8080/"
        },
        "id": "MgPWr6GoHYk1",
        "outputId": "73bb5df1-32c0-4930-fbba-fd2b8cdc497f"
      },
      "source": [
        "b = (np.mean(x * y) - np.mean(x) * np.mean(y)) / (np.mean(x**2) - np.mean(x) ** 2)\n",
        "b"
      ],
      "execution_count": 9,
      "outputs": [
        {
          "output_type": "execute_result",
          "data": {
            "text/plain": [
              "2.620538882402765"
            ]
          },
          "metadata": {
            "tags": []
          },
          "execution_count": 9
        }
      ]
    },
    {
      "cell_type": "code",
      "metadata": {
        "colab": {
          "base_uri": "https://localhost:8080/"
        },
        "id": "mo22tWz4HYoV",
        "outputId": "42246388-bc0f-4f7b-90bc-7b205f969e0d"
      },
      "source": [
        "a = np.mean(y) - b * np.mean(x)\n",
        "a"
      ],
      "execution_count": 10,
      "outputs": [
        {
          "output_type": "execute_result",
          "data": {
            "text/plain": [
              "444.1773573243596"
            ]
          },
          "metadata": {
            "tags": []
          },
          "execution_count": 10
        }
      ]
    },
    {
      "cell_type": "markdown",
      "metadata": {
        "id": "tpEmFafhK_Ig"
      },
      "source": [
        "Матричный метод"
      ]
    },
    {
      "cell_type": "code",
      "metadata": {
        "id": "98yJCCQQHYrh"
      },
      "source": [
        "import seaborn as sns"
      ],
      "execution_count": 11,
      "outputs": []
    },
    {
      "cell_type": "code",
      "metadata": {
        "colab": {
          "base_uri": "https://localhost:8080/"
        },
        "id": "0JT5wHWwHYtz",
        "outputId": "c5511c7f-f9d0-4a4b-af0f-3f1126e01b39"
      },
      "source": [
        "x = x.reshape((10,1))\n",
        "x"
      ],
      "execution_count": 12,
      "outputs": [
        {
          "output_type": "execute_result",
          "data": {
            "text/plain": [
              "array([[ 35.],\n",
              "       [ 45.],\n",
              "       [190.],\n",
              "       [200.],\n",
              "       [ 40.],\n",
              "       [ 70.],\n",
              "       [ 54.],\n",
              "       [150.],\n",
              "       [120.],\n",
              "       [110.]])"
            ]
          },
          "metadata": {
            "tags": []
          },
          "execution_count": 12
        }
      ]
    },
    {
      "cell_type": "code",
      "metadata": {
        "colab": {
          "base_uri": "https://localhost:8080/"
        },
        "id": "_olB6gynLrca",
        "outputId": "8a0f6ca5-7be2-452a-8637-15334f733748"
      },
      "source": [
        "y = y.reshape ((10,1))\n",
        "y"
      ],
      "execution_count": 13,
      "outputs": [
        {
          "output_type": "execute_result",
          "data": {
            "text/plain": [
              "array([[401.],\n",
              "       [574.],\n",
              "       [874.],\n",
              "       [919.],\n",
              "       [459.],\n",
              "       [739.],\n",
              "       [653.],\n",
              "       [902.],\n",
              "       [746.],\n",
              "       [832.]])"
            ]
          },
          "metadata": {
            "tags": []
          },
          "execution_count": 13
        }
      ]
    },
    {
      "cell_type": "code",
      "metadata": {
        "colab": {
          "base_uri": "https://localhost:8080/"
        },
        "id": "d9zkIp6FL1wA",
        "outputId": "c1099aee-d2d9-490d-baa6-44d92291ba6a"
      },
      "source": [
        "x = np.hstack([np.ones((10,1)), x])\n",
        "x"
      ],
      "execution_count": 14,
      "outputs": [
        {
          "output_type": "execute_result",
          "data": {
            "text/plain": [
              "array([[  1.,  35.],\n",
              "       [  1.,  45.],\n",
              "       [  1., 190.],\n",
              "       [  1., 200.],\n",
              "       [  1.,  40.],\n",
              "       [  1.,  70.],\n",
              "       [  1.,  54.],\n",
              "       [  1., 150.],\n",
              "       [  1., 120.],\n",
              "       [  1., 110.]])"
            ]
          },
          "metadata": {
            "tags": []
          },
          "execution_count": 14
        }
      ]
    },
    {
      "cell_type": "code",
      "metadata": {
        "colab": {
          "base_uri": "https://localhost:8080/"
        },
        "id": "S6-4FICYL14Z",
        "outputId": "25e8cb5d-3deb-4a2f-d2c7-feae4ace58b1"
      },
      "source": [
        "b = np.dot(np.linalg.inv(np.dot(x.T,x)),x.T@y)\n",
        "b"
      ],
      "execution_count": 15,
      "outputs": [
        {
          "output_type": "execute_result",
          "data": {
            "text/plain": [
              "array([[444.17735732],\n",
              "       [  2.62053888]])"
            ]
          },
          "metadata": {
            "tags": []
          },
          "execution_count": 15
        }
      ]
    },
    {
      "cell_type": "markdown",
      "metadata": {
        "id": "ccViG9QaHIjn"
      },
      "source": [
        "# Задание 2"
      ]
    },
    {
      "cell_type": "markdown",
      "metadata": {
        "id": "XyD-j9DjMebJ"
      },
      "source": [
        "Посчитать коэффициент линейной регрессии при заработной плате (zp), используя градиентный спуск (без intercept)."
      ]
    },
    {
      "cell_type": "code",
      "metadata": {
        "id": "uRgyYJiIHLa5"
      },
      "source": [
        "X = np.array([35, 45, 190, 200, 40, 70, 54, 150, 120, 110])"
      ],
      "execution_count": 27,
      "outputs": []
    },
    {
      "cell_type": "code",
      "metadata": {
        "id": "YG4Gid8eNSA1"
      },
      "source": [
        "def mse_(B1,y=y,X=X,n=10):\n",
        "  return np.sum((B1*X-y)**2)/n\n"
      ],
      "execution_count": 28,
      "outputs": []
    },
    {
      "cell_type": "code",
      "metadata": {
        "id": "r10twqbUNuvT"
      },
      "source": [
        "alpha = 1e-6"
      ],
      "execution_count": 29,
      "outputs": []
    },
    {
      "cell_type": "code",
      "metadata": {
        "id": "Mq58HvGrN0S8"
      },
      "source": [
        "B1 = 0.1\n",
        "n = 10"
      ],
      "execution_count": 30,
      "outputs": []
    },
    {
      "cell_type": "code",
      "metadata": {
        "colab": {
          "base_uri": "https://localhost:8080/"
        },
        "id": "rIuln3bXN6pS",
        "outputId": "d5e098ac-016f-4060-9612-6387ca398af5"
      },
      "source": [
        "for i in range (1000):\n",
        "    B1 -=alpha*(2/n)*np.sum((B1*X-y)*X)\n",
        "    if i%10==0:\n",
        "        print('Iteration: {i}, B1={B1}, mse={mse}'.format(i=i, B1=B1, mse=mse_(B1)))  "
      ],
      "execution_count": 35,
      "outputs": [
        {
          "output_type": "stream",
          "text": [
            "Iteration: 0, B1=5.8898204201295625, mse=56516.85841571941\n",
            "Iteration: 10, B1=5.889820420130325, mse=56516.85841571941\n",
            "Iteration: 20, B1=5.8898204201309, mse=56516.8584157194\n",
            "Iteration: 30, B1=5.889820420131335, mse=56516.85841571941\n",
            "Iteration: 40, B1=5.889820420131667, mse=56516.8584157194\n",
            "Iteration: 50, B1=5.889820420131916, mse=56516.85841571941\n",
            "Iteration: 60, B1=5.8898204201321045, mse=56516.85841571943\n",
            "Iteration: 70, B1=5.889820420132247, mse=56516.85841571941\n",
            "Iteration: 80, B1=5.889820420132355, mse=56516.85841571941\n",
            "Iteration: 90, B1=5.889820420132437, mse=56516.85841571943\n",
            "Iteration: 100, B1=5.889820420132498, mse=56516.85841571941\n",
            "Iteration: 110, B1=5.889820420132545, mse=56516.85841571941\n",
            "Iteration: 120, B1=5.88982042013258, mse=56516.85841571943\n",
            "Iteration: 130, B1=5.889820420132606, mse=56516.85841571941\n",
            "Iteration: 140, B1=5.889820420132625, mse=56516.85841571939\n",
            "Iteration: 150, B1=5.889820420132642, mse=56516.8584157194\n",
            "Iteration: 160, B1=5.889820420132651, mse=56516.8584157194\n",
            "Iteration: 170, B1=5.88982042013266, mse=56516.8584157194\n",
            "Iteration: 180, B1=5.8898204201326685, mse=56516.85841571941\n",
            "Iteration: 190, B1=5.889820420132673, mse=56516.85841571943\n",
            "Iteration: 200, B1=5.889820420132673, mse=56516.85841571943\n",
            "Iteration: 210, B1=5.889820420132673, mse=56516.85841571943\n",
            "Iteration: 220, B1=5.889820420132673, mse=56516.85841571943\n",
            "Iteration: 230, B1=5.889820420132673, mse=56516.85841571943\n",
            "Iteration: 240, B1=5.889820420132673, mse=56516.85841571943\n",
            "Iteration: 250, B1=5.889820420132673, mse=56516.85841571943\n",
            "Iteration: 260, B1=5.889820420132673, mse=56516.85841571943\n",
            "Iteration: 270, B1=5.889820420132673, mse=56516.85841571943\n",
            "Iteration: 280, B1=5.889820420132673, mse=56516.85841571943\n",
            "Iteration: 290, B1=5.889820420132673, mse=56516.85841571943\n",
            "Iteration: 300, B1=5.889820420132673, mse=56516.85841571943\n",
            "Iteration: 310, B1=5.889820420132673, mse=56516.85841571943\n",
            "Iteration: 320, B1=5.889820420132673, mse=56516.85841571943\n",
            "Iteration: 330, B1=5.889820420132673, mse=56516.85841571943\n",
            "Iteration: 340, B1=5.889820420132673, mse=56516.85841571943\n",
            "Iteration: 350, B1=5.889820420132673, mse=56516.85841571943\n",
            "Iteration: 360, B1=5.889820420132673, mse=56516.85841571943\n",
            "Iteration: 370, B1=5.889820420132673, mse=56516.85841571943\n",
            "Iteration: 380, B1=5.889820420132673, mse=56516.85841571943\n",
            "Iteration: 390, B1=5.889820420132673, mse=56516.85841571943\n",
            "Iteration: 400, B1=5.889820420132673, mse=56516.85841571943\n",
            "Iteration: 410, B1=5.889820420132673, mse=56516.85841571943\n",
            "Iteration: 420, B1=5.889820420132673, mse=56516.85841571943\n",
            "Iteration: 430, B1=5.889820420132673, mse=56516.85841571943\n",
            "Iteration: 440, B1=5.889820420132673, mse=56516.85841571943\n",
            "Iteration: 450, B1=5.889820420132673, mse=56516.85841571943\n",
            "Iteration: 460, B1=5.889820420132673, mse=56516.85841571943\n",
            "Iteration: 470, B1=5.889820420132673, mse=56516.85841571943\n",
            "Iteration: 480, B1=5.889820420132673, mse=56516.85841571943\n",
            "Iteration: 490, B1=5.889820420132673, mse=56516.85841571943\n",
            "Iteration: 500, B1=5.889820420132673, mse=56516.85841571943\n",
            "Iteration: 510, B1=5.889820420132673, mse=56516.85841571943\n",
            "Iteration: 520, B1=5.889820420132673, mse=56516.85841571943\n",
            "Iteration: 530, B1=5.889820420132673, mse=56516.85841571943\n",
            "Iteration: 540, B1=5.889820420132673, mse=56516.85841571943\n",
            "Iteration: 550, B1=5.889820420132673, mse=56516.85841571943\n",
            "Iteration: 560, B1=5.889820420132673, mse=56516.85841571943\n",
            "Iteration: 570, B1=5.889820420132673, mse=56516.85841571943\n",
            "Iteration: 580, B1=5.889820420132673, mse=56516.85841571943\n",
            "Iteration: 590, B1=5.889820420132673, mse=56516.85841571943\n",
            "Iteration: 600, B1=5.889820420132673, mse=56516.85841571943\n",
            "Iteration: 610, B1=5.889820420132673, mse=56516.85841571943\n",
            "Iteration: 620, B1=5.889820420132673, mse=56516.85841571943\n",
            "Iteration: 630, B1=5.889820420132673, mse=56516.85841571943\n",
            "Iteration: 640, B1=5.889820420132673, mse=56516.85841571943\n",
            "Iteration: 650, B1=5.889820420132673, mse=56516.85841571943\n",
            "Iteration: 660, B1=5.889820420132673, mse=56516.85841571943\n",
            "Iteration: 670, B1=5.889820420132673, mse=56516.85841571943\n",
            "Iteration: 680, B1=5.889820420132673, mse=56516.85841571943\n",
            "Iteration: 690, B1=5.889820420132673, mse=56516.85841571943\n",
            "Iteration: 700, B1=5.889820420132673, mse=56516.85841571943\n",
            "Iteration: 710, B1=5.889820420132673, mse=56516.85841571943\n",
            "Iteration: 720, B1=5.889820420132673, mse=56516.85841571943\n",
            "Iteration: 730, B1=5.889820420132673, mse=56516.85841571943\n",
            "Iteration: 740, B1=5.889820420132673, mse=56516.85841571943\n",
            "Iteration: 750, B1=5.889820420132673, mse=56516.85841571943\n",
            "Iteration: 760, B1=5.889820420132673, mse=56516.85841571943\n",
            "Iteration: 770, B1=5.889820420132673, mse=56516.85841571943\n",
            "Iteration: 780, B1=5.889820420132673, mse=56516.85841571943\n",
            "Iteration: 790, B1=5.889820420132673, mse=56516.85841571943\n",
            "Iteration: 800, B1=5.889820420132673, mse=56516.85841571943\n",
            "Iteration: 810, B1=5.889820420132673, mse=56516.85841571943\n",
            "Iteration: 820, B1=5.889820420132673, mse=56516.85841571943\n",
            "Iteration: 830, B1=5.889820420132673, mse=56516.85841571943\n",
            "Iteration: 840, B1=5.889820420132673, mse=56516.85841571943\n",
            "Iteration: 850, B1=5.889820420132673, mse=56516.85841571943\n",
            "Iteration: 860, B1=5.889820420132673, mse=56516.85841571943\n",
            "Iteration: 870, B1=5.889820420132673, mse=56516.85841571943\n",
            "Iteration: 880, B1=5.889820420132673, mse=56516.85841571943\n",
            "Iteration: 890, B1=5.889820420132673, mse=56516.85841571943\n",
            "Iteration: 900, B1=5.889820420132673, mse=56516.85841571943\n",
            "Iteration: 910, B1=5.889820420132673, mse=56516.85841571943\n",
            "Iteration: 920, B1=5.889820420132673, mse=56516.85841571943\n",
            "Iteration: 930, B1=5.889820420132673, mse=56516.85841571943\n",
            "Iteration: 940, B1=5.889820420132673, mse=56516.85841571943\n",
            "Iteration: 950, B1=5.889820420132673, mse=56516.85841571943\n",
            "Iteration: 960, B1=5.889820420132673, mse=56516.85841571943\n",
            "Iteration: 970, B1=5.889820420132673, mse=56516.85841571943\n",
            "Iteration: 980, B1=5.889820420132673, mse=56516.85841571943\n",
            "Iteration: 990, B1=5.889820420132673, mse=56516.85841571943\n"
          ],
          "name": "stdout"
        }
      ]
    },
    {
      "cell_type": "code",
      "metadata": {
        "colab": {
          "base_uri": "https://localhost:8080/"
        },
        "id": "JcXWGN4sOLGi",
        "outputId": "4a3843a7-df5c-44da-f75b-1f2d9a3e88db"
      },
      "source": [
        "B1"
      ],
      "execution_count": 36,
      "outputs": [
        {
          "output_type": "execute_result",
          "data": {
            "text/plain": [
              "5.889820420132673"
            ]
          },
          "metadata": {
            "tags": []
          },
          "execution_count": 36
        }
      ]
    },
    {
      "cell_type": "code",
      "metadata": {
        "colab": {
          "base_uri": "https://localhost:8080/"
        },
        "id": "H3yqQMeaS14T",
        "outputId": "7ecd8194-0d1b-4d0e-b7c8-7b79d457c68f"
      },
      "source": [
        "mse_(5.889820420132673)"
      ],
      "execution_count": 40,
      "outputs": [
        {
          "output_type": "execute_result",
          "data": {
            "text/plain": [
              "56516.85841571943"
            ]
          },
          "metadata": {
            "tags": []
          },
          "execution_count": 40
        }
      ]
    },
    {
      "cell_type": "code",
      "metadata": {
        "id": "NmTqSFl0TNKm"
      },
      "source": [
        ""
      ],
      "execution_count": null,
      "outputs": []
    }
  ]
}