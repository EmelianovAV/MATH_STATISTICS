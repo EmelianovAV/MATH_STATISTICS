{
 "cells": [
  {
   "cell_type": "markdown",
   "metadata": {},
   "source": [
    "# Задание 1\n",
    "### Вероятность того, что стрелок попадет в мишень,\n",
    "### выстрелив один раз, равна 0.8. Стрелок выстрелил 100 раз.\n",
    "### Найдите вероятность того, что стрелок попадет в цель ровно 85 раз."
   ]
  },
  {
   "cell_type": "code",
   "execution_count": 1,
   "metadata": {},
   "outputs": [],
   "source": [
    "from math import factorial"
   ]
  },
  {
   "cell_type": "code",
   "execution_count": 9,
   "metadata": {},
   "outputs": [],
   "source": [
    "# n = 100 - число испытаний\n",
    "# p = 0.8 - вероятность появления события\n",
    "# x = 85 - количество событий\n",
    "# Применим формулу Бернулли для решения задачи\n",
    "\n",
    "def binomial_prob(n, p, x):\n",
    "    b = (factorial(n)/(factorial(x)*factorial(n-x)))*(p**x)*((1-p)**(n-x))\n",
    "    return b"
   ]
  },
  {
   "cell_type": "code",
   "execution_count": 14,
   "metadata": {},
   "outputs": [
    {
     "name": "stdout",
     "output_type": "stream",
     "text": [
      "Вероятность того, что стрелок попадет в цель ровно 85 раз равна: 0.0481\n"
     ]
    }
   ],
   "source": [
    "print('Вероятность того, что стрелок попадет в цель ровно 85 раз равна:', round(binomial_prob(100, 0.8, 85), 4))"
   ]
  },
  {
   "cell_type": "code",
   "execution_count": 15,
   "metadata": {},
   "outputs": [
    {
     "name": "stdout",
     "output_type": "stream",
     "text": [
      "Вероятность того, что стрелок попадет в цель ровно 85 раз равна: 0.0481\n"
     ]
    }
   ],
   "source": [
    "### ИЛИ используем готовую функцию\n",
    "\n",
    "from scipy import stats\n",
    "probability = stats.binom.pmf(85, 100, 0.8)\n",
    "print('Вероятность того, что стрелок попадет в цель ровно 85 раз равна:', round(probability, 4))"
   ]
  },
  {
   "cell_type": "markdown",
   "metadata": {},
   "source": [
    "# Задание 2\n",
    "### Вероятность того, что лампочка перегорит в течение первого дня эксплуатации,\n",
    "### равна 0.0004. В жилом комплексе после ремонта в один день включили 5000 новых лампочек.\n",
    "### Какова вероятность, что ни одна из них не перегорит в первый день?"
   ]
  },
  {
   "cell_type": "code",
   "execution_count": 16,
   "metadata": {},
   "outputs": [],
   "source": [
    "from scipy import stats"
   ]
  },
  {
   "cell_type": "code",
   "execution_count": 19,
   "metadata": {},
   "outputs": [
    {
     "name": "stdout",
     "output_type": "stream",
     "text": [
      "Вероятность, что ни одна из них не перегорит в первый день равна: 0.1353\n"
     ]
    }
   ],
   "source": [
    "probability = stats.binom.pmf(0, 5000, 0.0004)\n",
    "print('Вероятность, что ни одна из них не перегорит в первый день равна:',round(probability, 4))"
   ]
  },
  {
   "cell_type": "code",
   "execution_count": 25,
   "metadata": {},
   "outputs": [],
   "source": [
    "# Применим формулу Бернулли для решения задачи\n",
    "# n = 5000 - число испытаний\n",
    "# p = 0.0004 - вероятность появления события\n",
    "# x = 0 - количество событий\n",
    "def binomial_prob(n, p, x):\n",
    "    b = (factorial(n)/(factorial(x)*factorial(n-x)))*(p**x)*((1-p)**(n-x))\n",
    "    return b"
   ]
  },
  {
   "cell_type": "code",
   "execution_count": 21,
   "metadata": {},
   "outputs": [
    {
     "name": "stdout",
     "output_type": "stream",
     "text": [
      "Вероятность, что ни одна из них не перегорит в первый день равна: 0.1353\n"
     ]
    }
   ],
   "source": [
    "print('Вероятность, что ни одна из них не перегорит в первый день равна:',round(binomial_prob(5000, 0.0004, 0), 4))"
   ]
  },
  {
   "cell_type": "markdown",
   "metadata": {},
   "source": [
    "### Какова вероятность, что перегорят ровно две?"
   ]
  },
  {
   "cell_type": "code",
   "execution_count": 27,
   "metadata": {},
   "outputs": [
    {
     "name": "stdout",
     "output_type": "stream",
     "text": [
      "Вероятность, что перегорят ровно две равна: 0.2707\n"
     ]
    }
   ],
   "source": [
    "def binomial_prob(n, p, x):\n",
    "    b = (factorial(n)/(factorial(x)*factorial(n-x)))*(p**x)*((1-p)**(n-x))\n",
    "    return b\n",
    "print('Вероятность, что перегорят ровно две равна:', round(binomial_prob(5000, 0.0004, 2), 4))"
   ]
  },
  {
   "cell_type": "markdown",
   "metadata": {},
   "source": [
    "# Задание 3\n",
    "### Монету подбросили 144 раза. Какова вероятность, что орел выпадет ровно 70 раз?"
   ]
  },
  {
   "cell_type": "code",
   "execution_count": 23,
   "metadata": {},
   "outputs": [],
   "source": [
    "# # n = 144 - число испытаний\n",
    "# p = 0.5 - вероятность появления события \n",
    "# x = 70 - количество событий\n",
    "# Применим формулу Бернулли для решения задачи\n",
    "\n",
    "def binomial_prob(n, p, x):\n",
    "    b = (factorial(n)/(factorial(x)*factorial(n-x)))*(p**x)*((1-p)**(n-x))\n",
    "    return b"
   ]
  },
  {
   "cell_type": "code",
   "execution_count": 24,
   "metadata": {},
   "outputs": [
    {
     "name": "stdout",
     "output_type": "stream",
     "text": [
      "Вероятность того, что орел выпадет ровно 70 раз равна: 0.0628\n"
     ]
    }
   ],
   "source": [
    "print('Вероятность того, что орел выпадет ровно 70 раз равна:', round(binomial_prob(144, 0.5, 70), 4))"
   ]
  },
  {
   "cell_type": "markdown",
   "metadata": {},
   "source": [
    "# Задание 4\n",
    "### В первом ящике находится 10 мячей, из которых 7 - белые. Во втором ящике - 11 мячей, из которых 9 белых. Из каждого ящика вытаскивают случайным образом по два мяча. \n",
    "\n",
    "### Какова вероятность того, что все мячи белые? "
   ]
  },
  {
   "cell_type": "code",
   "execution_count": 28,
   "metadata": {},
   "outputs": [
    {
     "name": "stdout",
     "output_type": "stream",
     "text": [
      "Количество положительных исходов: 21\n"
     ]
    }
   ],
   "source": [
    "# находим количество положительных исходов в первом ящике\n",
    "n = 7\n",
    "k = 2\n",
    "a = int(factorial(n) / (factorial(k) * factorial(n - k)))\n",
    "print('Количество положительных исходов:', a)"
   ]
  },
  {
   "cell_type": "code",
   "execution_count": 34,
   "metadata": {},
   "outputs": [
    {
     "name": "stdout",
     "output_type": "stream",
     "text": [
      "Количество положительных исходов: 45\n"
     ]
    }
   ],
   "source": [
    "# находим общее количество исходов в первом ящике\n",
    "n = 10\n",
    "k = 2\n",
    "Aa = int(factorial(n) / (factorial(k) * factorial(n - k)))\n",
    "print('Количество положительных исходов:', Aa)"
   ]
  },
  {
   "cell_type": "code",
   "execution_count": 35,
   "metadata": {},
   "outputs": [
    {
     "name": "stdout",
     "output_type": "stream",
     "text": [
      "Количество положительных исходов: 36\n"
     ]
    }
   ],
   "source": [
    "# находим количество положительных исходов во втором ящике\n",
    "n = 9\n",
    "k = 2\n",
    "b = int(factorial(n) / (factorial(k) * factorial(n - k)))\n",
    "print('Количество положительных исходов:', b)"
   ]
  },
  {
   "cell_type": "code",
   "execution_count": 36,
   "metadata": {},
   "outputs": [
    {
     "name": "stdout",
     "output_type": "stream",
     "text": [
      "Количество положительных исходов: 55\n"
     ]
    }
   ],
   "source": [
    "# находим общее количество исходов во втором ящике\n",
    "n = 11\n",
    "k = 2\n",
    "Bb = int(factorial(n) / (factorial(k) * factorial(n - k)))\n",
    "print('Количество положительных исходов:', Bb)"
   ]
  },
  {
   "cell_type": "code",
   "execution_count": 41,
   "metadata": {},
   "outputs": [
    {
     "name": "stdout",
     "output_type": "stream",
     "text": [
      "Вероятность того, что все мячи белые равна: 0.3055\n"
     ]
    }
   ],
   "source": [
    "# находим вероятность того, что все мячи белые\n",
    "\n",
    "Pa = (a/Aa) * (b/Bb)\n",
    "print('Вероятность того, что все мячи белые равна:', round(Pa, 4))"
   ]
  }
 ],
 "metadata": {
  "kernelspec": {
   "display_name": "Python 3",
   "language": "python",
   "name": "python3"
  },
  "language_info": {
   "codemirror_mode": {
    "name": "ipython",
    "version": 3
   },
   "file_extension": ".py",
   "mimetype": "text/x-python",
   "name": "python",
   "nbconvert_exporter": "python",
   "pygments_lexer": "ipython3",
   "version": "3.8.5"
  }
 },
 "nbformat": 4,
 "nbformat_minor": 4
}
