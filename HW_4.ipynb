{
 "cells": [
  {
   "cell_type": "markdown",
   "metadata": {},
   "source": [
    "# Задание 1\n",
    "### Случайная непрерывная величина A имеет равномерное распределение на промежутке (200, 800].\n",
    "### Найдите ее среднее значение и дисперсию."
   ]
  },
  {
   "cell_type": "code",
   "execution_count": 31,
   "metadata": {},
   "outputs": [],
   "source": [
    "import numpy as np\n",
    "\n",
    "data = [200, 800]"
   ]
  },
  {
   "cell_type": "code",
   "execution_count": 32,
   "metadata": {},
   "outputs": [
    {
     "name": "stdout",
     "output_type": "stream",
     "text": [
      "среднее занчение на промежутке (200, 800] равно 500.0\n"
     ]
    }
   ],
   "source": [
    "# находим среднее занчение\n",
    "m = np.mean(data)\n",
    "print ('среднее занчение на промежутке (200, 800] равно', m)"
   ]
  },
  {
   "cell_type": "code",
   "execution_count": 55,
   "metadata": {},
   "outputs": [
    {
     "name": "stdout",
     "output_type": "stream",
     "text": [
      "дисперсия на промежутке (200, 800] равна 30000.0\n"
     ]
    }
   ],
   "source": [
    "# находим дисперсию\n",
    "\n",
    "a = 200\n",
    "b = 800\n",
    "xD = ((b - a)**2)/12\n",
    "\n",
    "print ('дисперсия на промежутке (200, 800] равна', xD)"
   ]
  },
  {
   "cell_type": "markdown",
   "metadata": {},
   "source": [
    "# Задание 2\n",
    "### О случайной непрерывной равномерно распределенной величине B известно, что ее дисперсия равна 0.2.\n",
    "### Можно ли найти правую границу величины B и ее среднее значение зная, что левая граница равна 0.5?\n",
    "### Если да, найдите ее."
   ]
  },
  {
   "cell_type": "code",
   "execution_count": 68,
   "metadata": {},
   "outputs": [
    {
     "name": "stdout",
     "output_type": "stream",
     "text": [
      "правая граница величины B равна 2.049\n",
      "среднее занчение на промежутке [a, b] равно 1.275\n"
     ]
    }
   ],
   "source": [
    "xD = 0.2\n",
    "a = 0.5\n",
    "\n",
    "b = np.sqrt(xD * 12) + a\n",
    "\n",
    "m = np.mean([a, b])\n",
    "print ('правая граница величины B равна', round(b, 3))\n",
    "print ('среднее занчение на промежутке [a, b] равно', round(m, 3))"
   ]
  },
  {
   "cell_type": "markdown",
   "metadata": {},
   "source": [
    "# Задание 3\n",
    "### Непрерывная случайная величина X распределена нормально и задана плотностью распределения\n",
    "### f(x) = (1 / (4 * sqrt(2*pi))) * (exp(-((x+2)**2) / 32))\n",
    "### Найдите:\n",
    "#### а). M(X)\n",
    "#### б). D(X)\n",
    "#### в). std(X) (среднее квадратичное отклонение)"
   ]
  },
  {
   "cell_type": "code",
   "execution_count": 76,
   "metadata": {},
   "outputs": [
    {
     "name": "stdout",
     "output_type": "stream",
     "text": [
      "M(X) =  -2 \n",
      "D(X) =  16 \n",
      "std(X) =  4\n"
     ]
    }
   ],
   "source": [
    "# из формулы плотности распределения находим все необходимые данные\n",
    "mX = -2\n",
    "stdX = 4\n",
    "dX = stdX**2\n",
    "print ('M(X) = ', mX,\"\\n\" 'D(X) = ', dX,\"\\n\" 'std(X) = ', stdX)"
   ]
  },
  {
   "cell_type": "markdown",
   "metadata": {},
   "source": [
    "# Задание 4\n",
    "### Рост взрослого населения города X имеет нормальное распределение.\n",
    "### Причем, средний рост равен 174 см, а среднее квадратичное отклонение равно 8 см.\n",
    "### Какова вероятность того, что случайным образом выбранный взрослый человек имеет рост:\n",
    "#### а). больше 182 см\n",
    "#### б). больше 190 см\n",
    "#### в). от 166 см до 190 см\n",
    "#### г). от 166 см до 182 см\n",
    "#### д). от 158 см до 190 см\n",
    "#### е). не выше 150 см или не ниже 190 см\n",
    "#### ё). не выше 150 см или не ниже 198 см\n",
    "#### ж). ниже 166 см."
   ]
  },
  {
   "cell_type": "code",
   "execution_count": 78,
   "metadata": {},
   "outputs": [],
   "source": [
    "# решаем через 3 сигмы\n",
    "from scipy.stats import norm\n",
    "m = 174\n",
    "stdX = 8"
   ]
  },
  {
   "cell_type": "code",
   "execution_count": 248,
   "metadata": {},
   "outputs": [
    {
     "name": "stdout",
     "output_type": "stream",
     "text": [
      "a) 16 % \n",
      "б) 2.28 % \n",
      "в) 82 % \n",
      "г) 68 % \n",
      "д) 95 % \n",
      "е) 2.41 % \n",
      "ё) 0.27 % \n",
      "ж) 16 %\n"
     ]
    }
   ],
   "source": [
    "a = round((1 - norm.cdf(1))*100)\n",
    "b = round((1 - norm.cdf(2))*100, 2)\n",
    "c = round((1 - norm.cdf(-1) - norm.cdf(-2))*100)\n",
    "d = round((1 - norm.cdf(-1) - norm.cdf(-1))*100)\n",
    "e = round((1 - norm.cdf(-2) - norm.cdf(-2))*100)\n",
    "f = round((1 - norm.cdf(3) + norm.cdf(-2))*100,3)\n",
    "j = round((1 - norm.cdf(3) + norm.cdf(-3))*100,3)\n",
    "k = round((norm.cdf(-1))*100)\n",
    "print (f'a) {a} %', \"\\n\" f'б) {b} %', \"\\n\" f'в) {c} %', \"\\n\" f'г) {d} %', \"\\n\" f'д) {e} %', \"\\n\" f'е) {f} %', \"\\n\" f'ё) {j} %', \"\\n\" f'ж) {k} %')"
   ]
  },
  {
   "cell_type": "markdown",
   "metadata": {},
   "source": [
    "# Задание 5\n",
    "### На сколько сигм (средних квадратичных отклонений) отклоняется рост человека, равный 190 см, от\n",
    "### математического ожидания роста в популяции, в которой M(X) = 178 см и D(X) = 25 кв.см?"
   ]
  },
  {
   "cell_type": "code",
   "execution_count": 256,
   "metadata": {},
   "outputs": [
    {
     "name": "stdout",
     "output_type": "stream",
     "text": [
      "рост человека, равный 190 см отклоняется от математического ожидания роста в популяции на 2.4 сигм\n"
     ]
    }
   ],
   "source": [
    "mX = 178\n",
    "dX = 25\n",
    "X = 190\n",
    "std = np.sqrt(dX)\n",
    "\n",
    "stdX = (X - mX)/std\n",
    "\n",
    "print (f'рост человека, равный 190 см отклоняется от математического ожидания роста в популяции на {stdX} сигм')"
   ]
  },
  {
   "cell_type": "code",
   "execution_count": null,
   "metadata": {},
   "outputs": [],
   "source": []
  }
 ],
 "metadata": {
  "kernelspec": {
   "display_name": "Python 3",
   "language": "python",
   "name": "python3"
  },
  "language_info": {
   "codemirror_mode": {
    "name": "ipython",
    "version": 3
   },
   "file_extension": ".py",
   "mimetype": "text/x-python",
   "name": "python",
   "nbconvert_exporter": "python",
   "pygments_lexer": "ipython3",
   "version": "3.8.5"
  }
 },
 "nbformat": 4,
 "nbformat_minor": 4
}
