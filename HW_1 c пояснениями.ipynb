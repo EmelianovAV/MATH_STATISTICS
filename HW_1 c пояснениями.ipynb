{
 "cells": [
  {
   "cell_type": "markdown",
   "metadata": {},
   "source": [
    "# Задание 1\n",
    "### Из колоды в 52 карты извлекаются случайным образом 4 карты.\n",
    "### a) Найти вероятность того, что все карты – крести.\n",
    "### б) Найти вероятность, что среди 4-х карт окажется хотя бы один туз."
   ]
  },
  {
   "cell_type": "code",
   "execution_count": 1,
   "metadata": {},
   "outputs": [],
   "source": [
    "from math import factorial\n",
    "n_1 = 13 # всего в колоде 13 карт крести\n",
    "n_2 = 52 # всего карт в колоде\n",
    "n_3 = 48 # всего карт без тузов\n",
    "k = 4 # количество извлеченных карт"
   ]
  },
  {
   "cell_type": "markdown",
   "metadata": {},
   "source": [
    "Часть а)"
   ]
  },
  {
   "cell_type": "code",
   "execution_count": 2,
   "metadata": {},
   "outputs": [
    {
     "name": "stdout",
     "output_type": "stream",
     "text": [
      "Количество положительных исходов: 715\n"
     ]
    }
   ],
   "source": [
    "# нахоим количество положительных исходов\n",
    "a = int(factorial(n_1) / (factorial(k) * factorial(n_1 - k)))\n",
    "print('Количество положительных исходов:', a)"
   ]
  },
  {
   "cell_type": "code",
   "execution_count": 3,
   "metadata": {},
   "outputs": [
    {
     "name": "stdout",
     "output_type": "stream",
     "text": [
      "Количество исходов: 270725\n"
     ]
    }
   ],
   "source": [
    "# Нахидим общее количество исходов\n",
    "b = int(factorial(n_2) / (factorial(k) * factorial(n_2 - k)))\n",
    "print('Количество исходов:', b)"
   ]
  },
  {
   "cell_type": "code",
   "execution_count": 4,
   "metadata": {},
   "outputs": [
    {
     "name": "stdout",
     "output_type": "stream",
     "text": [
      "Вероятность того, что все карты – крести равна:  0.0026\n"
     ]
    }
   ],
   "source": [
    "# Нахоим вероятность Р, где все 4 карты крести\n",
    "P = a / b\n",
    "print('Вероятность того, что все карты – крести равна: ', round(P, 4))"
   ]
  },
  {
   "cell_type": "markdown",
   "metadata": {},
   "source": [
    "Часть б)"
   ]
  },
  {
   "cell_type": "code",
   "execution_count": 5,
   "metadata": {},
   "outputs": [
    {
     "name": "stdout",
     "output_type": "stream",
     "text": [
      "Вероятность того, что среди выбранных 4-х карт не будет туза: 0.7187\n"
     ]
    }
   ],
   "source": [
    "# Находим вероятность того, что среди выбранных 4-х карт не будет туза\n",
    "\n",
    "Prob = ((factorial(n_3) / (factorial(k) * factorial(n_3 - k)))/(factorial(n_2)/(factorial(k) * factorial(n_2 - k))))\n",
    "print('Вероятность того, что среди выбранных 4-х карт не будет туза:', round(Prob, 4))"
   ]
  },
  {
   "cell_type": "code",
   "execution_count": 6,
   "metadata": {},
   "outputs": [
    {
     "name": "stdout",
     "output_type": "stream",
     "text": [
      "Вероятность, что среди 4-х карт окажется хотя бы один туз 0.2813\n"
     ]
    }
   ],
   "source": [
    "# P_1 - вероятность, что среди 4-х карт окажется хотя бы один туз\n",
    "\n",
    "P_1 = 1 - Prob\n",
    "print('Вероятность, что среди 4-х карт окажется хотя бы один туз', round(P_1, 4))"
   ]
  },
  {
   "cell_type": "markdown",
   "metadata": {},
   "source": [
    "# Задание 2\n",
    "### На входной двери подъезда установлен кодовый замок, содержащий десять кнопок с цифрами\n",
    "### от 0 до 9. Код содержит три цифры, которые нужно нажать одновременно. Какова вероятность\n",
    "### того, что человек, не знающий код, откроет дверь с первой попытки?"
   ]
  },
  {
   "cell_type": "code",
   "execution_count": 7,
   "metadata": {},
   "outputs": [],
   "source": [
    "# n = 10 - количество кнопок на замке\n",
    "# k = 3 - количество одновременно нажатых кнопок кода\n",
    "# Вероятность равна верный исход разделить на общее количество комбинаций из 3х чисел\n",
    "\n",
    "def combinations(n, k):\n",
    "    return 1 / int(factorial(n) / (factorial(k) * factorial(n - k)))"
   ]
  },
  {
   "cell_type": "code",
   "execution_count": 8,
   "metadata": {},
   "outputs": [
    {
     "name": "stdout",
     "output_type": "stream",
     "text": [
      "Вероятность того, что человек, не знающий код, откроет дверь с первой попытки: 0.0083\n"
     ]
    }
   ],
   "source": [
    "print ('Вероятность того, что человек, не знающий код, откроет дверь с первой попытки:', round(combinations(10, 3), 4))"
   ]
  },
  {
   "cell_type": "markdown",
   "metadata": {},
   "source": [
    "# Задание 3\n",
    "### В ящике имеется 15 деталей, из которых 9 окрашены. Рабочий случайным\n",
    "### образом извлекает 3 детали. Какова вероятность того, что все извлеченные детали окрашены?"
   ]
  },
  {
   "cell_type": "code",
   "execution_count": 9,
   "metadata": {},
   "outputs": [],
   "source": [
    "# Найдем общее количество исходов = N\n",
    "# n - общее число деталей\n",
    "# k - количество извлеченных деталей\n",
    "\n",
    "def combinations(n, k):\n",
    "    return int(factorial(n) / (factorial(k) * factorial(n - k)))"
   ]
  },
  {
   "cell_type": "code",
   "execution_count": 10,
   "metadata": {},
   "outputs": [
    {
     "name": "stdout",
     "output_type": "stream",
     "text": [
      "общее количество исходов N = 455\n"
     ]
    }
   ],
   "source": [
    "N = combinations(15, 3)\n",
    "print('общее количество исходов N =', N)"
   ]
  },
  {
   "cell_type": "code",
   "execution_count": 11,
   "metadata": {},
   "outputs": [],
   "source": [
    "# Найдем количество положительных исходов, где все извлеченные детали окрашены\n",
    "# n - количество окрашенных деталей\n",
    "# k - количество извлеченных деталей\n",
    "\n",
    "def combinations2(n, k):\n",
    "    return int(factorial(n) / (factorial(k) * factorial(n - k)))"
   ]
  },
  {
   "cell_type": "code",
   "execution_count": 12,
   "metadata": {},
   "outputs": [
    {
     "name": "stdout",
     "output_type": "stream",
     "text": [
      "количество положительных исходов, где все извлеченные детали окрашены M = 84\n"
     ]
    }
   ],
   "source": [
    "M = combinations2(9, 3)\n",
    "print('количество положительных исходов, где все извлеченные детали окрашены M =', M)"
   ]
  },
  {
   "cell_type": "code",
   "execution_count": 13,
   "metadata": {},
   "outputs": [
    {
     "name": "stdout",
     "output_type": "stream",
     "text": [
      "Вероятность того, что все извлеченные детали окрашены: 0.1846\n"
     ]
    }
   ],
   "source": [
    "# Находим вероятность того, что все извлеченные детали окрашены. \n",
    "# Она равна частному количества положительных исходов, где все извлеченные детали окрашены на общее \n",
    "#количество исходов\n",
    "\n",
    "P = M/N\n",
    "\n",
    "print('Вероятность того, что все извлеченные детали окрашены:', round(P, 4))"
   ]
  },
  {
   "cell_type": "markdown",
   "metadata": {},
   "source": [
    "# Задание 4\n",
    "### В лотерее 100 билетов. Из них 2 выигрышных. Какова вероятность того,\n",
    "### что 2 приобретенных билета окажутся выигрышными?\n",
    "### n - количество выйгрышных билетов, к - количество билетов, m - количество купленных билетов"
   ]
  },
  {
   "cell_type": "code",
   "execution_count": 14,
   "metadata": {},
   "outputs": [],
   "source": [
    "# n = 2 - количество выйгрышных билетов\n",
    "# k = 100 - количество билетов в лотерее\n",
    "# m = 2 - количество купленных билетов\n",
    "\n",
    "def combinations(n, m, k):\n",
    "    M = int(factorial(n)/(factorial(m) * factorial(n-m)))\n",
    "    N = int(factorial(k)/(factorial(n) * factorial(k-n)))\n",
    "    return M/N"
   ]
  },
  {
   "cell_type": "code",
   "execution_count": 15,
   "metadata": {},
   "outputs": [
    {
     "name": "stdout",
     "output_type": "stream",
     "text": [
      "Вероятность того, что 2 приобретенных билета окажутся выигрышными равна: 0.0002\n"
     ]
    }
   ],
   "source": [
    "print('Вероятность того, что 2 приобретенных билета окажутся выигрышными равна:', round(combinations(2, 2, 100), 4))"
   ]
  }
 ],
 "metadata": {
  "kernelspec": {
   "display_name": "Python 3",
   "language": "python",
   "name": "python3"
  },
  "language_info": {
   "codemirror_mode": {
    "name": "ipython",
    "version": 3
   },
   "file_extension": ".py",
   "mimetype": "text/x-python",
   "name": "python",
   "nbconvert_exporter": "python",
   "pygments_lexer": "ipython3",
   "version": "3.8.5"
  }
 },
 "nbformat": 4,
 "nbformat_minor": 4
}
