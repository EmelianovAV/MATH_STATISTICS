{
 "cells": [
  {
   "cell_type": "markdown",
   "metadata": {},
   "source": [
    "# Задание 2\n",
    "### В первом ящике находится 8 мячей, из которых 5 - белые. Во втором ящике - 12 мячей, из которых 5 белых. Из первого ящика вытаскивают случайным образом два мяча, из второго - 4. Какова вероятность того, что 3 мяча белые?"
   ]
  },
  {
   "cell_type": "code",
   "execution_count": 11,
   "metadata": {},
   "outputs": [],
   "source": [
    "import numpy as np\n",
    "from math import factorial"
   ]
  },
  {
   "cell_type": "code",
   "execution_count": 22,
   "metadata": {},
   "outputs": [],
   "source": [
    "def combinations(n, k):\n",
    "    return int(factorial(n) / (factorial(k) * factorial(n-k)))"
   ]
  },
  {
   "cell_type": "code",
   "execution_count": 27,
   "metadata": {},
   "outputs": [
    {
     "name": "stdout",
     "output_type": "stream",
     "text": [
      "Вероятность когда из первого ящика вытащили 2 черных мяча, а из второго 3 белых и черный:  0.0152\n"
     ]
    }
   ],
   "source": [
    "# Вероятность когда из первого ящика вытащили 2 черных мяча, а из второго 3 белых и черный\n",
    "\n",
    "P_1 = (combinations(5, 0) * combinations(3, 2))/ combinations(8, 2) * ((combinations(5, 3) * combinations(7, 1)) / combinations(12, 4))\n",
    "\n",
    "print('Вероятность когда из первого ящика вытащили 2 черных мяча, а из второго 3 белых и черный: ', round(P_1, 4))"
   ]
  },
  {
   "cell_type": "code",
   "execution_count": 26,
   "metadata": {},
   "outputs": [
    {
     "name": "stdout",
     "output_type": "stream",
     "text": [
      "Вероятность когда из первого ящика вытащили 1 черный мяч, 1 белый, а из второго 2 белых и 2 черных:  0.2273\n"
     ]
    }
   ],
   "source": [
    "# Вероятность когда из первого ящика вытащили 1 черный мяч, 1 белый, а из второго 2 белых и 2 черных\n",
    "\n",
    "P_2 = (combinations(5, 1) * combinations(3, 1))/ combinations(8, 2) * ((combinations(5, 2) * combinations(7, 2)) / combinations(12, 4))\n",
    "\n",
    "print('Вероятность когда из первого ящика вытащили 1 черный мяч, 1 белый, а из второго 2 белых и 2 черных: ', round(P_2, 4))"
   ]
  },
  {
   "cell_type": "code",
   "execution_count": 29,
   "metadata": {},
   "outputs": [
    {
     "name": "stdout",
     "output_type": "stream",
     "text": [
      "Вероятность когда из первого ящика вытащили 2 белых, а из второго 1 белый и 3 черных:  0.1263\n"
     ]
    }
   ],
   "source": [
    "# Вероятность когда из первого ящика вытащили 2 белых, а из второго 1 белый и 3 черных\n",
    "\n",
    "P_3 = (combinations(5, 2) * combinations(3, 0))/ combinations(8, 2) * ((combinations(5, 1) * combinations(7, 3)) / combinations(12, 4))\n",
    "\n",
    "print('Вероятность когда из первого ящика вытащили 2 белых, а из второго 1 белый и 3 черных: ', round(P_3, 4))\n"
   ]
  },
  {
   "cell_type": "code",
   "execution_count": 30,
   "metadata": {},
   "outputs": [
    {
     "name": "stdout",
     "output_type": "stream",
     "text": [
      "Вероятность того, что 3 мяча белые равна : 0.3687\n"
     ]
    }
   ],
   "source": [
    "# Вероятность того, что 3 мяча белые\n",
    "\n",
    "P = P_1 + P_2 + P_3\n",
    "\n",
    "print('Вероятность того, что 3 мяча белые равна :', round(P, 4))"
   ]
  },
  {
   "cell_type": "markdown",
   "metadata": {},
   "source": [
    "# Задание 3\n",
    "### На соревновании по биатлону один из трех спортсменов стреляет и попадает в мишень. Вероятность попадания для первого спортсмена равна 0.9, для второго — 0.8, для третьего — 0.6. Найти вероятность того, что выстрел произведен: \n",
    "\n"
   ]
  },
  {
   "cell_type": "code",
   "execution_count": 33,
   "metadata": {},
   "outputs": [
    {
     "name": "stdout",
     "output_type": "stream",
     "text": [
      "Вероятность удачного выстрела равна: 0.7667\n"
     ]
    }
   ],
   "source": [
    "S_1 = 0.9 # - вероятность попадания для первого спортсмена\n",
    "S_2 = 0.8 # - вероятность попадания для второго спортсмена\n",
    "S_3 = 0.6 # - вероятность попадания для третьего спортсмена\n",
    "P_B = 1/3 # - вероятность выстрела каждого из спортсменов\n",
    "\n",
    "# Найдем вероятность удачного выстрела\n",
    "\n",
    "P_A = P_B * S_1 + P_B * S_2 + P_B * S_3\n",
    "\n",
    "print('Вероятность удачного выстрела равна:', round(P_A, 4))"
   ]
  },
  {
   "cell_type": "markdown",
   "metadata": {},
   "source": [
    "## Далее все вычисляем по формуле Байеса"
   ]
  },
  {
   "cell_type": "markdown",
   "metadata": {},
   "source": [
    "### a). первым спортсменом "
   ]
  },
  {
   "cell_type": "code",
   "execution_count": 34,
   "metadata": {},
   "outputs": [
    {
     "name": "stdout",
     "output_type": "stream",
     "text": [
      "вероятность того, что выстрел произведен 0.391304347826087\n"
     ]
    }
   ],
   "source": [
    "P_1 = P_B * S_1 / P_A\n",
    "print('вероятность того, что выстрел произведен', P_1)"
   ]
  },
  {
   "cell_type": "markdown",
   "metadata": {},
   "source": [
    "### б). вторым спортсменом"
   ]
  },
  {
   "cell_type": "code",
   "execution_count": 35,
   "metadata": {},
   "outputs": [
    {
     "name": "stdout",
     "output_type": "stream",
     "text": [
      "вероятность того, что выстрел произведен 0.3478260869565218\n"
     ]
    }
   ],
   "source": [
    "P_2 = P_B * S_2 / P_A\n",
    "print('вероятность того, что выстрел произведен', P_2)"
   ]
  },
  {
   "cell_type": "markdown",
   "metadata": {},
   "source": [
    "### в). третьим спортсменом"
   ]
  },
  {
   "cell_type": "code",
   "execution_count": 36,
   "metadata": {},
   "outputs": [
    {
     "name": "stdout",
     "output_type": "stream",
     "text": [
      "вероятность того, что выстрел произведен 0.2608695652173913\n"
     ]
    }
   ],
   "source": [
    "P_3 = P_B * S_3 / P_A\n",
    "print('вероятность того, что выстрел произведен', P_3)"
   ]
  },
  {
   "cell_type": "markdown",
   "metadata": {},
   "source": [
    "# Задание 4\n",
    "### В университет на факультеты A и B поступило равное количество студентов, а на факультет C студентов поступило столько же, сколько на A и B вместе. Вероятность того, что студент факультета A сдаст первую сессию, равна 0.8. Для студента факультета B эта вероятность равна 0.7, а для студента факультета C - 0.9. Студент сдал первую сессию. Какова вероятность, что он учится: a). на факультете A б). на факультете B в). на факультете C?"
   ]
  },
  {
   "cell_type": "code",
   "execution_count": 37,
   "metadata": {},
   "outputs": [],
   "source": [
    "# т.к. из 100% студентов по 25 приходится на А и В и 50 на С примем \n",
    "A_S = 1/4\n",
    "B_S = 1/4\n",
    "C_S = 1/2"
   ]
  },
  {
   "cell_type": "code",
   "execution_count": 38,
   "metadata": {},
   "outputs": [],
   "source": [
    "# Вероятности сдачи\n",
    "P_A = 0.8\n",
    "P_B = 0.7\n",
    "P_C = 0.9"
   ]
  },
  {
   "cell_type": "code",
   "execution_count": 39,
   "metadata": {},
   "outputs": [
    {
     "name": "stdout",
     "output_type": "stream",
     "text": [
      "вероятность сдачи экзамена 0.825\n"
     ]
    }
   ],
   "source": [
    "# находим вероятность сдачи экзамена общую\n",
    "\n",
    "PQ = A_S * P_A + B_S * P_B + C_S * P_C\n",
    "\n",
    "print('вероятность сдачи экзамена', PQ)"
   ]
  },
  {
   "cell_type": "markdown",
   "metadata": {},
   "source": [
    "### Далее все вычисляем по формуле Байеса"
   ]
  },
  {
   "cell_type": "markdown",
   "metadata": {},
   "source": [
    "### a). на факультете A"
   ]
  },
  {
   "cell_type": "code",
   "execution_count": 40,
   "metadata": {},
   "outputs": [
    {
     "name": "stdout",
     "output_type": "stream",
     "text": [
      "Вероятность, что студент учится на факультете A 0.24242424242424246\n"
     ]
    }
   ],
   "source": [
    "A = A_S * P_A / PQ\n",
    "\n",
    "print('Вероятность, что студент учится на факультете A', A)"
   ]
  },
  {
   "cell_type": "code",
   "execution_count": 41,
   "metadata": {},
   "outputs": [
    {
     "name": "stdout",
     "output_type": "stream",
     "text": [
      "Вероятность, что студент учится на факультете B 0.21212121212121213\n"
     ]
    }
   ],
   "source": [
    "B = B_S * P_B / PQ\n",
    "\n",
    "print('Вероятность, что студент учится на факультете B', B)"
   ]
  },
  {
   "cell_type": "code",
   "execution_count": 42,
   "metadata": {},
   "outputs": [
    {
     "name": "stdout",
     "output_type": "stream",
     "text": [
      "Вероятность, что студент учится на факультете C 0.5454545454545455\n"
     ]
    }
   ],
   "source": [
    "C = C_S * P_C / PQ\n",
    "\n",
    "print('Вероятность, что студент учится на факультете C', C)"
   ]
  },
  {
   "cell_type": "markdown",
   "metadata": {},
   "source": [
    "# Задание 5\n",
    "### Устройство состоит из трех деталей. Для первой детали вероятность выйти из строя в первый месяц равна 0.1, для второй - 0.2, для третьей - 0.25. Какова вероятность того, что в первый месяц выйдут из строя: а). все детали б). только две детали в). хотя бы одна деталь г). от одной до двух деталей?"
   ]
  },
  {
   "cell_type": "code",
   "execution_count": 44,
   "metadata": {},
   "outputs": [],
   "source": [
    "a = 0.1\n",
    "b = 0.2\n",
    "c = 0.25\n",
    "\n",
    "aA = 0.9 # - вероятность что 1я деталь не сломается\n",
    "bB = 0.8 # - вероятность что 2я деталь не сломается\n",
    "cC = 0.75 # - вероятность что 3я деталь не сломается"
   ]
  },
  {
   "cell_type": "code",
   "execution_count": 43,
   "metadata": {},
   "outputs": [
    {
     "name": "stdout",
     "output_type": "stream",
     "text": [
      "Вероятность выхода из строя всех деталей равна: 0.005000000000000001\n"
     ]
    }
   ],
   "source": [
    "# Находим вероятность выхода из строя всех деталей\n",
    "a = 0.1\n",
    "b = 0.2\n",
    "c = 0.25\n",
    "\n",
    "kR = a * b * c\n",
    "\n",
    "print('Общая вероятность выхода из строя всех деталей равна:', kR)"
   ]
  },
  {
   "cell_type": "code",
   "execution_count": 45,
   "metadata": {},
   "outputs": [
    {
     "name": "stdout",
     "output_type": "stream",
     "text": [
      "вероятность выхода из строя 2х деталей равна: 0.08\n"
     ]
    }
   ],
   "source": [
    "# Находим вероятность выхода из строя 2х деталей\n",
    "\n",
    "kR_2 = aA * b * c + a * bB * c + a * b * cC\n",
    "\n",
    "print('вероятность выхода из строя 2х деталей равна:', kR_2)"
   ]
  },
  {
   "cell_type": "code",
   "execution_count": 46,
   "metadata": {},
   "outputs": [
    {
     "name": "stdout",
     "output_type": "stream",
     "text": [
      "вероятность выхода из строя хотя бы одной детали равна: 0.45999999999999996\n"
     ]
    }
   ],
   "source": [
    "# Находим вероятность выхода из строя хотя бы одной детали\n",
    "\n",
    "kR_S = 1 - aA * bB * cC\n",
    "\n",
    "print('вероятность выхода из строя хотя бы одной детали равна:', kR_S)"
   ]
  }
 ],
 "metadata": {
  "kernelspec": {
   "display_name": "Python 3",
   "language": "python",
   "name": "python3"
  },
  "language_info": {
   "codemirror_mode": {
    "name": "ipython",
    "version": 3
   },
   "file_extension": ".py",
   "mimetype": "text/x-python",
   "name": "python",
   "nbconvert_exporter": "python",
   "pygments_lexer": "ipython3",
   "version": "3.8.5"
  }
 },
 "nbformat": 4,
 "nbformat_minor": 4
}
